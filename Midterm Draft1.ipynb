{
 "cells": [
  {
   "cell_type": "markdown",
   "id": "c3d20219-ba8d-4584-8bb2-85fac8521509",
   "metadata": {},
   "source": [
    "# **Median Household Income and Access to Grocery Stores**"
   ]
  },
  {
   "cell_type": "markdown",
   "id": "c45a3f11-4441-45e8-a808-42f7a9b14ceb",
   "metadata": {},
   "source": [
    "## Samantha Guerrero and Jessica Melendez"
   ]
  },
  {
   "cell_type": "markdown",
   "id": "594e6f78-6f69-45b7-aaec-14fdf3e60720",
   "metadata": {},
   "source": [
    "For our midterm we decided to see what correlation there was between median household income and access to grocery stores. We decided that we would pull data from census tracts as well as zip codes so we could begin comparing communities like West LA and South LA."
   ]
  },
  {
   "cell_type": "markdown",
   "id": "cd5a7eac-2e74-4ada-9598-7d71d8407527",
   "metadata": {},
   "source": [
    "First let's import our libraries and data..."
   ]
  },
  {
   "cell_type": "code",
   "execution_count": 1,
   "id": "446367ba-ea1a-4cf8-ac9a-b4fbd0229ca9",
   "metadata": {},
   "outputs": [],
   "source": [
    "import pandas as pd\n",
    "\n",
    "from io import StringIO\n",
    "\n",
    "import geopandas as gpd\n",
    "\n",
    "import contextily as ctx\n",
    "\n",
    "import matplotlib.pyplot as plt"
   ]
  },
  {
   "cell_type": "markdown",
   "id": "88109894-f933-48f5-a98b-74760f79d793",
   "metadata": {},
   "source": [
    "We'll be looking at median household income for now."
   ]
  },
  {
   "cell_type": "code",
   "execution_count": 2,
   "id": "926f1d59-3da8-418c-ba04-276462454250",
   "metadata": {},
   "outputs": [],
   "source": [
    "LA_income = gpd.read_file('data/censusincome.geojson')"
   ]
  },
  {
   "cell_type": "markdown",
   "id": "08b26507-7482-4ee3-ab80-8ef2fb30c595",
   "metadata": {},
   "source": [
    "Only 5 columns but a ton of data. Let's see what we can do"
   ]
  },
  {
   "cell_type": "code",
   "execution_count": 3,
   "id": "d3b60a56-d8c5-4150-9fb8-8b603e22fcaf",
   "metadata": {},
   "outputs": [
    {
     "data": {
      "text/plain": [
       "(2347, 5)"
      ]
     },
     "execution_count": 3,
     "metadata": {},
     "output_type": "execute_result"
    }
   ],
   "source": [
    "LA_income.shape"
   ]
  },
  {
   "cell_type": "code",
   "execution_count": 4,
   "id": "594056b7-cfa6-4734-977e-b0d16ef015f5",
   "metadata": {},
   "outputs": [
    {
     "data": {
      "text/html": [
       "<div>\n",
       "<style scoped>\n",
       "    .dataframe tbody tr th:only-of-type {\n",
       "        vertical-align: middle;\n",
       "    }\n",
       "\n",
       "    .dataframe tbody tr th {\n",
       "        vertical-align: top;\n",
       "    }\n",
       "\n",
       "    .dataframe thead th {\n",
       "        text-align: right;\n",
       "    }\n",
       "</style>\n",
       "<table border=\"1\" class=\"dataframe\">\n",
       "  <thead>\n",
       "    <tr style=\"text-align: right;\">\n",
       "      <th></th>\n",
       "      <th>geoid</th>\n",
       "      <th>name</th>\n",
       "      <th>B19013001</th>\n",
       "      <th>B19013001, Error</th>\n",
       "      <th>geometry</th>\n",
       "    </tr>\n",
       "  </thead>\n",
       "  <tbody>\n",
       "    <tr>\n",
       "      <th>0</th>\n",
       "      <td>05000US06037</td>\n",
       "      <td>Los Angeles County, CA</td>\n",
       "      <td>68044.0</td>\n",
       "      <td>347.0</td>\n",
       "      <td>MULTIPOLYGON (((-118.70339 34.16859, -118.7033...</td>\n",
       "    </tr>\n",
       "    <tr>\n",
       "      <th>1</th>\n",
       "      <td>14000US06037101110</td>\n",
       "      <td>Census Tract 1011.10, Los Angeles, CA</td>\n",
       "      <td>63534.0</td>\n",
       "      <td>16806.0</td>\n",
       "      <td>MULTIPOLYGON (((-118.30229 34.25870, -118.3009...</td>\n",
       "    </tr>\n",
       "    <tr>\n",
       "      <th>2</th>\n",
       "      <td>14000US06037101122</td>\n",
       "      <td>Census Tract 1011.22, Los Angeles, CA</td>\n",
       "      <td>90389.0</td>\n",
       "      <td>9796.0</td>\n",
       "      <td>MULTIPOLYGON (((-118.30334 34.27371, -118.3033...</td>\n",
       "    </tr>\n",
       "    <tr>\n",
       "      <th>3</th>\n",
       "      <td>14000US06037101210</td>\n",
       "      <td>Census Tract 1012.10, Los Angeles, CA</td>\n",
       "      <td>44083.0</td>\n",
       "      <td>9483.0</td>\n",
       "      <td>MULTIPOLYGON (((-118.29945 34.25598, -118.2979...</td>\n",
       "    </tr>\n",
       "    <tr>\n",
       "      <th>4</th>\n",
       "      <td>14000US06037101220</td>\n",
       "      <td>Census Tract 1012.20, Los Angeles, CA</td>\n",
       "      <td>43713.0</td>\n",
       "      <td>4639.0</td>\n",
       "      <td>MULTIPOLYGON (((-118.28593 34.25227, -118.2859...</td>\n",
       "    </tr>\n",
       "  </tbody>\n",
       "</table>\n",
       "</div>"
      ],
      "text/plain": [
       "                geoid                                   name  B19013001  \\\n",
       "0        05000US06037                 Los Angeles County, CA    68044.0   \n",
       "1  14000US06037101110  Census Tract 1011.10, Los Angeles, CA    63534.0   \n",
       "2  14000US06037101122  Census Tract 1011.22, Los Angeles, CA    90389.0   \n",
       "3  14000US06037101210  Census Tract 1012.10, Los Angeles, CA    44083.0   \n",
       "4  14000US06037101220  Census Tract 1012.20, Los Angeles, CA    43713.0   \n",
       "\n",
       "   B19013001, Error                                           geometry  \n",
       "0             347.0  MULTIPOLYGON (((-118.70339 34.16859, -118.7033...  \n",
       "1           16806.0  MULTIPOLYGON (((-118.30229 34.25870, -118.3009...  \n",
       "2            9796.0  MULTIPOLYGON (((-118.30334 34.27371, -118.3033...  \n",
       "3            9483.0  MULTIPOLYGON (((-118.29945 34.25598, -118.2979...  \n",
       "4            4639.0  MULTIPOLYGON (((-118.28593 34.25227, -118.2859...  "
      ]
     },
     "execution_count": 4,
     "metadata": {},
     "output_type": "execute_result"
    }
   ],
   "source": [
    "LA_income.head()"
   ]
  },
  {
   "cell_type": "code",
   "execution_count": 5,
   "id": "28c13ed1-4740-410a-900d-f0b716360112",
   "metadata": {},
   "outputs": [
    {
     "data": {
      "text/html": [
       "<div>\n",
       "<style scoped>\n",
       "    .dataframe tbody tr th:only-of-type {\n",
       "        vertical-align: middle;\n",
       "    }\n",
       "\n",
       "    .dataframe tbody tr th {\n",
       "        vertical-align: top;\n",
       "    }\n",
       "\n",
       "    .dataframe thead th {\n",
       "        text-align: right;\n",
       "    }\n",
       "</style>\n",
       "<table border=\"1\" class=\"dataframe\">\n",
       "  <thead>\n",
       "    <tr style=\"text-align: right;\">\n",
       "      <th></th>\n",
       "      <th>geoid</th>\n",
       "      <th>name</th>\n",
       "      <th>B19013001</th>\n",
       "      <th>B19013001, Error</th>\n",
       "      <th>geometry</th>\n",
       "    </tr>\n",
       "  </thead>\n",
       "  <tbody>\n",
       "    <tr>\n",
       "      <th>2342</th>\n",
       "      <td>14000US06037980031</td>\n",
       "      <td>Census Tract 9800.31, Los Angeles, CA</td>\n",
       "      <td>NaN</td>\n",
       "      <td>NaN</td>\n",
       "      <td>MULTIPOLYGON (((-118.29105 33.75378, -118.2905...</td>\n",
       "    </tr>\n",
       "    <tr>\n",
       "      <th>2343</th>\n",
       "      <td>14000US06037980033</td>\n",
       "      <td>Census Tract 9800.33, Los Angeles, CA</td>\n",
       "      <td>NaN</td>\n",
       "      <td>NaN</td>\n",
       "      <td>MULTIPOLYGON (((-118.24897 33.75590, -118.2470...</td>\n",
       "    </tr>\n",
       "    <tr>\n",
       "      <th>2344</th>\n",
       "      <td>14000US06037990100</td>\n",
       "      <td>Census Tract 9901, Los Angeles, CA</td>\n",
       "      <td>NaN</td>\n",
       "      <td>NaN</td>\n",
       "      <td>MULTIPOLYGON (((-118.95114 33.99643, -118.9505...</td>\n",
       "    </tr>\n",
       "    <tr>\n",
       "      <th>2345</th>\n",
       "      <td>14000US06037990200</td>\n",
       "      <td>Census Tract 9902, Los Angeles, CA</td>\n",
       "      <td>NaN</td>\n",
       "      <td>NaN</td>\n",
       "      <td>MULTIPOLYGON (((-118.63598 34.03255, -118.6325...</td>\n",
       "    </tr>\n",
       "    <tr>\n",
       "      <th>2346</th>\n",
       "      <td>14000US06037990300</td>\n",
       "      <td>Census Tract 9903, Los Angeles, CA</td>\n",
       "      <td>NaN</td>\n",
       "      <td>NaN</td>\n",
       "      <td>MULTIPOLYGON (((-118.47656 33.75038, -118.4661...</td>\n",
       "    </tr>\n",
       "  </tbody>\n",
       "</table>\n",
       "</div>"
      ],
      "text/plain": [
       "                   geoid                                   name  B19013001  \\\n",
       "2342  14000US06037980031  Census Tract 9800.31, Los Angeles, CA        NaN   \n",
       "2343  14000US06037980033  Census Tract 9800.33, Los Angeles, CA        NaN   \n",
       "2344  14000US06037990100     Census Tract 9901, Los Angeles, CA        NaN   \n",
       "2345  14000US06037990200     Census Tract 9902, Los Angeles, CA        NaN   \n",
       "2346  14000US06037990300     Census Tract 9903, Los Angeles, CA        NaN   \n",
       "\n",
       "      B19013001, Error                                           geometry  \n",
       "2342               NaN  MULTIPOLYGON (((-118.29105 33.75378, -118.2905...  \n",
       "2343               NaN  MULTIPOLYGON (((-118.24897 33.75590, -118.2470...  \n",
       "2344               NaN  MULTIPOLYGON (((-118.95114 33.99643, -118.9505...  \n",
       "2345               NaN  MULTIPOLYGON (((-118.63598 34.03255, -118.6325...  \n",
       "2346               NaN  MULTIPOLYGON (((-118.47656 33.75038, -118.4661...  "
      ]
     },
     "execution_count": 5,
     "metadata": {},
     "output_type": "execute_result"
    }
   ],
   "source": [
    "LA_income.tail()"
   ]
  },
  {
   "cell_type": "code",
   "execution_count": 6,
   "id": "49ffc2f1-37f9-4ef6-8a9b-c219689c2a88",
   "metadata": {},
   "outputs": [
    {
     "data": {
      "text/html": [
       "<div>\n",
       "<style scoped>\n",
       "    .dataframe tbody tr th:only-of-type {\n",
       "        vertical-align: middle;\n",
       "    }\n",
       "\n",
       "    .dataframe tbody tr th {\n",
       "        vertical-align: top;\n",
       "    }\n",
       "\n",
       "    .dataframe thead th {\n",
       "        text-align: right;\n",
       "    }\n",
       "</style>\n",
       "<table border=\"1\" class=\"dataframe\">\n",
       "  <thead>\n",
       "    <tr style=\"text-align: right;\">\n",
       "      <th></th>\n",
       "      <th>geoid</th>\n",
       "      <th>name</th>\n",
       "      <th>B19013001</th>\n",
       "      <th>B19013001, Error</th>\n",
       "      <th>geometry</th>\n",
       "    </tr>\n",
       "  </thead>\n",
       "  <tbody>\n",
       "    <tr>\n",
       "      <th>1598</th>\n",
       "      <td>14000US06037533701</td>\n",
       "      <td>Census Tract 5337.01, Los Angeles, CA</td>\n",
       "      <td>36845.0</td>\n",
       "      <td>6739.0</td>\n",
       "      <td>MULTIPOLYGON (((-118.18556 33.98714, -118.1854...</td>\n",
       "    </tr>\n",
       "  </tbody>\n",
       "</table>\n",
       "</div>"
      ],
      "text/plain": [
       "                   geoid                                   name  B19013001  \\\n",
       "1598  14000US06037533701  Census Tract 5337.01, Los Angeles, CA    36845.0   \n",
       "\n",
       "      B19013001, Error                                           geometry  \n",
       "1598            6739.0  MULTIPOLYGON (((-118.18556 33.98714, -118.1854...  "
      ]
     },
     "execution_count": 6,
     "metadata": {},
     "output_type": "execute_result"
    }
   ],
   "source": [
    "LA_income.sample()"
   ]
  },
  {
   "cell_type": "markdown",
   "id": "9af0c249-4f1e-44c5-8a5d-d9b7ef896fb7",
   "metadata": {},
   "source": [
    "Okay, lets plot our data to get a sense of what area we're looking at"
   ]
  },
  {
   "cell_type": "code",
   "execution_count": 7,
   "id": "7fbcbbcd-8f0c-461c-b239-7240dcede225",
   "metadata": {},
   "outputs": [
    {
     "data": {
      "text/plain": [
       "<AxesSubplot:>"
      ]
     },
     "execution_count": 7,
     "metadata": {},
     "output_type": "execute_result"
    },
    {
     "data": {
      "image/png": "[encoded data removed]",
      "text/plain": [
       "<Figure size 720x720 with 1 Axes>"
      ]
     },
     "metadata": {
      "needs_background": "light"
     },
     "output_type": "display_data"
    }
   ],
   "source": [
    "LA_income.plot(figsize=(10,10))"
   ]
  },
  {
   "cell_type": "markdown",
   "id": "8ef4c64b-1d27-459d-84c0-96c0dceb2187",
   "metadata": {},
   "source": [
    "Yup! LA County, perfect! Now, let's drop our county row, labeled as 0. We don't want that skewing our data. "
   ]
  },
  {
   "cell_type": "code",
   "execution_count": 8,
   "id": "a2260b0d-3124-4524-b2a3-1450d28e1fd0",
   "metadata": {},
   "outputs": [
    {
     "name": "stdout",
     "output_type": "stream",
     "text": [
      "<class 'geopandas.geodataframe.GeoDataFrame'>\n",
      "RangeIndex: 2347 entries, 0 to 2346\n",
      "Data columns (total 5 columns):\n",
      " #   Column            Non-Null Count  Dtype   \n",
      "---  ------            --------------  -----   \n",
      " 0   geoid             2347 non-null   object  \n",
      " 1   name              2347 non-null   object  \n",
      " 2   B19013001         2311 non-null   float64 \n",
      " 3   B19013001, Error  2307 non-null   float64 \n",
      " 4   geometry          2347 non-null   geometry\n",
      "dtypes: float64(2), geometry(1), object(2)\n",
      "memory usage: 91.8+ KB\n"
     ]
    }
   ],
   "source": [
    "LA_income.info()"
   ]
  },
  {
   "cell_type": "code",
   "execution_count": 9,
   "id": "cda5bd6d-5bab-4a30-a5c3-4a6e358f47c1",
   "metadata": {},
   "outputs": [
    {
     "data": {
      "text/plain": [
       "0          05000US06037\n",
       "1    14000US06037101110\n",
       "2    14000US06037101122\n",
       "3    14000US06037101210\n",
       "4    14000US06037101220\n",
       "Name: geoid, dtype: object"
      ]
     },
     "execution_count": 9,
     "metadata": {},
     "output_type": "execute_result"
    }
   ],
   "source": [
    "LA_income.geoid.head()"
   ]
  },
  {
   "cell_type": "code",
   "execution_count": 10,
   "id": "a421baa5-8e22-4d0e-a5a2-f00e19df2610",
   "metadata": {},
   "outputs": [],
   "source": [
    "LA_income = LA_income.drop([0])"
   ]
  },
  {
   "cell_type": "code",
   "execution_count": 11,
   "id": "a821fcc6-3273-4895-8574-62bab87f9981",
   "metadata": {},
   "outputs": [
    {
     "data": {
      "text/html": [
       "<div>\n",
       "<style scoped>\n",
       "    .dataframe tbody tr th:only-of-type {\n",
       "        vertical-align: middle;\n",
       "    }\n",
       "\n",
       "    .dataframe tbody tr th {\n",
       "        vertical-align: top;\n",
       "    }\n",
       "\n",
       "    .dataframe thead th {\n",
       "        text-align: right;\n",
       "    }\n",
       "</style>\n",
       "<table border=\"1\" class=\"dataframe\">\n",
       "  <thead>\n",
       "    <tr style=\"text-align: right;\">\n",
       "      <th></th>\n",
       "      <th>geoid</th>\n",
       "      <th>name</th>\n",
       "      <th>B19013001</th>\n",
       "      <th>B19013001, Error</th>\n",
       "      <th>geometry</th>\n",
       "    </tr>\n",
       "  </thead>\n",
       "  <tbody>\n",
       "    <tr>\n",
       "      <th>1</th>\n",
       "      <td>14000US06037101110</td>\n",
       "      <td>Census Tract 1011.10, Los Angeles, CA</td>\n",
       "      <td>63534.0</td>\n",
       "      <td>16806.0</td>\n",
       "      <td>MULTIPOLYGON (((-118.30229 34.25870, -118.3009...</td>\n",
       "    </tr>\n",
       "    <tr>\n",
       "      <th>2</th>\n",
       "      <td>14000US06037101122</td>\n",
       "      <td>Census Tract 1011.22, Los Angeles, CA</td>\n",
       "      <td>90389.0</td>\n",
       "      <td>9796.0</td>\n",
       "      <td>MULTIPOLYGON (((-118.30334 34.27371, -118.3033...</td>\n",
       "    </tr>\n",
       "    <tr>\n",
       "      <th>3</th>\n",
       "      <td>14000US06037101210</td>\n",
       "      <td>Census Tract 1012.10, Los Angeles, CA</td>\n",
       "      <td>44083.0</td>\n",
       "      <td>9483.0</td>\n",
       "      <td>MULTIPOLYGON (((-118.29945 34.25598, -118.2979...</td>\n",
       "    </tr>\n",
       "    <tr>\n",
       "      <th>4</th>\n",
       "      <td>14000US06037101220</td>\n",
       "      <td>Census Tract 1012.20, Los Angeles, CA</td>\n",
       "      <td>43713.0</td>\n",
       "      <td>4639.0</td>\n",
       "      <td>MULTIPOLYGON (((-118.28593 34.25227, -118.2859...</td>\n",
       "    </tr>\n",
       "    <tr>\n",
       "      <th>5</th>\n",
       "      <td>14000US06037101300</td>\n",
       "      <td>Census Tract 1013, Los Angeles, CA</td>\n",
       "      <td>81776.0</td>\n",
       "      <td>11857.0</td>\n",
       "      <td>MULTIPOLYGON (((-118.27822 34.25068, -118.2782...</td>\n",
       "    </tr>\n",
       "  </tbody>\n",
       "</table>\n",
       "</div>"
      ],
      "text/plain": [
       "                geoid                                   name  B19013001  \\\n",
       "1  14000US06037101110  Census Tract 1011.10, Los Angeles, CA    63534.0   \n",
       "2  14000US06037101122  Census Tract 1011.22, Los Angeles, CA    90389.0   \n",
       "3  14000US06037101210  Census Tract 1012.10, Los Angeles, CA    44083.0   \n",
       "4  14000US06037101220  Census Tract 1012.20, Los Angeles, CA    43713.0   \n",
       "5  14000US06037101300     Census Tract 1013, Los Angeles, CA    81776.0   \n",
       "\n",
       "   B19013001, Error                                           geometry  \n",
       "1           16806.0  MULTIPOLYGON (((-118.30229 34.25870, -118.3009...  \n",
       "2            9796.0  MULTIPOLYGON (((-118.30334 34.27371, -118.3033...  \n",
       "3            9483.0  MULTIPOLYGON (((-118.29945 34.25598, -118.2979...  \n",
       "4            4639.0  MULTIPOLYGON (((-118.28593 34.25227, -118.2859...  \n",
       "5           11857.0  MULTIPOLYGON (((-118.27822 34.25068, -118.2782...  "
      ]
     },
     "execution_count": 11,
     "metadata": {},
     "output_type": "execute_result"
    }
   ],
   "source": [
    "LA_income.head()"
   ]
  },
  {
   "cell_type": "markdown",
   "id": "01e276fd-6acd-462f-8331-d3084ab05a05",
   "metadata": {},
   "source": [
    "Great! Now let's rename these columns for clarity"
   ]
  },
  {
   "cell_type": "code",
   "execution_count": 12,
   "id": "b58438e9-7df1-4bd5-af9c-ed8b1ab78902",
   "metadata": {},
   "outputs": [
    {
     "data": {
      "text/plain": [
       "['geoid', 'name', 'B19013001', 'B19013001, Error', 'geometry']"
      ]
     },
     "execution_count": 12,
     "metadata": {},
     "output_type": "execute_result"
    }
   ],
   "source": [
    "list(LA_income)"
   ]
  },
  {
   "cell_type": "code",
   "execution_count": 13,
   "id": "4bf5b19d-1580-4e79-99d2-f557d14bbde1",
   "metadata": {},
   "outputs": [],
   "source": [
    "LA_income.columns = ['geoid',\n",
    " 'Census Tract',\n",
    " 'Median HH Income',\n",
    " 'Inflation Adjusted',\n",
    " 'geometry']\n"
   ]
  },
  {
   "cell_type": "code",
   "execution_count": 14,
   "id": "667de2ed-9dff-4aeb-a01e-25c116aebc81",
   "metadata": {},
   "outputs": [
    {
     "data": {
      "text/html": [
       "<div>\n",
       "<style scoped>\n",
       "    .dataframe tbody tr th:only-of-type {\n",
       "        vertical-align: middle;\n",
       "    }\n",
       "\n",
       "    .dataframe tbody tr th {\n",
       "        vertical-align: top;\n",
       "    }\n",
       "\n",
       "    .dataframe thead th {\n",
       "        text-align: right;\n",
       "    }\n",
       "</style>\n",
       "<table border=\"1\" class=\"dataframe\">\n",
       "  <thead>\n",
       "    <tr style=\"text-align: right;\">\n",
       "      <th></th>\n",
       "      <th>geoid</th>\n",
       "      <th>Census Tract</th>\n",
       "      <th>Median HH Income</th>\n",
       "      <th>Inflation Adjusted</th>\n",
       "      <th>geometry</th>\n",
       "    </tr>\n",
       "  </thead>\n",
       "  <tbody>\n",
       "    <tr>\n",
       "      <th>1</th>\n",
       "      <td>14000US06037101110</td>\n",
       "      <td>Census Tract 1011.10, Los Angeles, CA</td>\n",
       "      <td>63534.0</td>\n",
       "      <td>16806.0</td>\n",
       "      <td>MULTIPOLYGON (((-118.30229 34.25870, -118.3009...</td>\n",
       "    </tr>\n",
       "    <tr>\n",
       "      <th>2</th>\n",
       "      <td>14000US06037101122</td>\n",
       "      <td>Census Tract 1011.22, Los Angeles, CA</td>\n",
       "      <td>90389.0</td>\n",
       "      <td>9796.0</td>\n",
       "      <td>MULTIPOLYGON (((-118.30334 34.27371, -118.3033...</td>\n",
       "    </tr>\n",
       "    <tr>\n",
       "      <th>3</th>\n",
       "      <td>14000US06037101210</td>\n",
       "      <td>Census Tract 1012.10, Los Angeles, CA</td>\n",
       "      <td>44083.0</td>\n",
       "      <td>9483.0</td>\n",
       "      <td>MULTIPOLYGON (((-118.29945 34.25598, -118.2979...</td>\n",
       "    </tr>\n",
       "    <tr>\n",
       "      <th>4</th>\n",
       "      <td>14000US06037101220</td>\n",
       "      <td>Census Tract 1012.20, Los Angeles, CA</td>\n",
       "      <td>43713.0</td>\n",
       "      <td>4639.0</td>\n",
       "      <td>MULTIPOLYGON (((-118.28593 34.25227, -118.2859...</td>\n",
       "    </tr>\n",
       "    <tr>\n",
       "      <th>5</th>\n",
       "      <td>14000US06037101300</td>\n",
       "      <td>Census Tract 1013, Los Angeles, CA</td>\n",
       "      <td>81776.0</td>\n",
       "      <td>11857.0</td>\n",
       "      <td>MULTIPOLYGON (((-118.27822 34.25068, -118.2782...</td>\n",
       "    </tr>\n",
       "  </tbody>\n",
       "</table>\n",
       "</div>"
      ],
      "text/plain": [
       "                geoid                           Census Tract  \\\n",
       "1  14000US06037101110  Census Tract 1011.10, Los Angeles, CA   \n",
       "2  14000US06037101122  Census Tract 1011.22, Los Angeles, CA   \n",
       "3  14000US06037101210  Census Tract 1012.10, Los Angeles, CA   \n",
       "4  14000US06037101220  Census Tract 1012.20, Los Angeles, CA   \n",
       "5  14000US06037101300     Census Tract 1013, Los Angeles, CA   \n",
       "\n",
       "   Median HH Income  Inflation Adjusted  \\\n",
       "1           63534.0             16806.0   \n",
       "2           90389.0              9796.0   \n",
       "3           44083.0              9483.0   \n",
       "4           43713.0              4639.0   \n",
       "5           81776.0             11857.0   \n",
       "\n",
       "                                            geometry  \n",
       "1  MULTIPOLYGON (((-118.30229 34.25870, -118.3009...  \n",
       "2  MULTIPOLYGON (((-118.30334 34.27371, -118.3033...  \n",
       "3  MULTIPOLYGON (((-118.29945 34.25598, -118.2979...  \n",
       "4  MULTIPOLYGON (((-118.28593 34.25227, -118.2859...  \n",
       "5  MULTIPOLYGON (((-118.27822 34.25068, -118.2782...  "
      ]
     },
     "execution_count": 14,
     "metadata": {},
     "output_type": "execute_result"
    }
   ],
   "source": [
    "LA_income.head()"
   ]
  },
  {
   "cell_type": "markdown",
   "id": "7771d5d1-6b77-49ba-bc73-664c12ca3ece",
   "metadata": {},
   "source": [
    "Let's see a random sample and get more familiar with the Median Household Income Column."
   ]
  },
  {
   "cell_type": "code",
   "execution_count": 15,
   "id": "ddc38cd5-4e3b-4261-b75f-c52dfe135d7d",
   "metadata": {},
   "outputs": [
    {
     "data": {
      "text/html": [
       "<div>\n",
       "<style scoped>\n",
       "    .dataframe tbody tr th:only-of-type {\n",
       "        vertical-align: middle;\n",
       "    }\n",
       "\n",
       "    .dataframe tbody tr th {\n",
       "        vertical-align: top;\n",
       "    }\n",
       "\n",
       "    .dataframe thead th {\n",
       "        text-align: right;\n",
       "    }\n",
       "</style>\n",
       "<table border=\"1\" class=\"dataframe\">\n",
       "  <thead>\n",
       "    <tr style=\"text-align: right;\">\n",
       "      <th></th>\n",
       "      <th>geoid</th>\n",
       "      <th>Census Tract</th>\n",
       "      <th>Median HH Income</th>\n",
       "      <th>Inflation Adjusted</th>\n",
       "      <th>geometry</th>\n",
       "    </tr>\n",
       "  </thead>\n",
       "  <tbody>\n",
       "    <tr>\n",
       "      <th>2345</th>\n",
       "      <td>14000US06037990200</td>\n",
       "      <td>Census Tract 9902, Los Angeles, CA</td>\n",
       "      <td>NaN</td>\n",
       "      <td>NaN</td>\n",
       "      <td>MULTIPOLYGON (((-118.63598 34.03255, -118.6325...</td>\n",
       "    </tr>\n",
       "  </tbody>\n",
       "</table>\n",
       "</div>"
      ],
      "text/plain": [
       "                   geoid                        Census Tract  \\\n",
       "2345  14000US06037990200  Census Tract 9902, Los Angeles, CA   \n",
       "\n",
       "      Median HH Income  Inflation Adjusted  \\\n",
       "2345               NaN                 NaN   \n",
       "\n",
       "                                               geometry  \n",
       "2345  MULTIPOLYGON (((-118.63598 34.03255, -118.6325...  "
      ]
     },
     "execution_count": 15,
     "metadata": {},
     "output_type": "execute_result"
    }
   ],
   "source": [
    "random_tract = LA_income.sample()\n",
    "random_tract"
   ]
  },
  {
   "cell_type": "code",
   "execution_count": 16,
   "id": "52f7f528-dd1f-4ced-a6db-c51e4ef996c5",
   "metadata": {},
   "outputs": [
    {
     "data": {
      "text/plain": [
       "nan"
      ]
     },
     "execution_count": 16,
     "metadata": {},
     "output_type": "execute_result"
    }
   ],
   "source": [
    "random_tract.iloc[0]['Median HH Income']"
   ]
  },
  {
   "cell_type": "code",
   "execution_count": 17,
   "id": "0b218b1f-93ab-470a-ac8c-4b75a76a2af6",
   "metadata": {},
   "outputs": [
    {
     "data": {
      "text/plain": [
       "1    63534.0\n",
       "2    90389.0\n",
       "3    44083.0\n",
       "4    43713.0\n",
       "5    81776.0\n",
       "Name: Median HH Income, dtype: float64"
      ]
     },
     "execution_count": 17,
     "metadata": {},
     "output_type": "execute_result"
    }
   ],
   "source": [
    "LA_income['Median HH Income'].head()"
   ]
  },
  {
   "cell_type": "code",
   "execution_count": 18,
   "id": "48998b0f-6722-4a93-97a2-49f050d6f321",
   "metadata": {},
   "outputs": [
    {
     "data": {
      "text/plain": [
       "73242.84415584416"
      ]
     },
     "execution_count": 18,
     "metadata": {},
     "output_type": "execute_result"
    }
   ],
   "source": [
    "LA_income['Median HH Income'].mean()"
   ]
  },
  {
   "cell_type": "code",
   "execution_count": 19,
   "id": "0524b1c1-f122-4f2b-86c8-5b4d02eb42b6",
   "metadata": {},
   "outputs": [
    {
     "data": {
      "text/plain": [
       "66212.0"
      ]
     },
     "execution_count": 19,
     "metadata": {},
     "output_type": "execute_result"
    }
   ],
   "source": [
    "LA_income['Median HH Income'].median()"
   ]
  },
  {
   "cell_type": "markdown",
   "id": "56557180-26f1-47b4-8639-64db96caa862",
   "metadata": {},
   "source": [
    "Since this is census data, let's assess what the numbers might tell us. What are the percentiles? What's the maximum median household income and what is the minimum? Is there a prominent gap between income levels?"
   ]
  },
  {
   "cell_type": "code",
   "execution_count": 20,
   "id": "8b4af99f-2f30-4af7-a16c-07d862f1d8f9",
   "metadata": {},
   "outputs": [
    {
     "data": {
      "text/plain": [
       "count      2310.000000\n",
       "mean      73242.844156\n",
       "std       34516.005733\n",
       "min        9191.000000\n",
       "25%       48191.000000\n",
       "50%       66212.000000\n",
       "75%       90403.250000\n",
       "max      250001.000000\n",
       "Name: Median HH Income, dtype: float64"
      ]
     },
     "execution_count": 20,
     "metadata": {},
     "output_type": "execute_result"
    }
   ],
   "source": [
    "LA_income['Median HH Income'].describe()"
   ]
  },
  {
   "cell_type": "markdown",
   "id": "0dd7b8ed-163b-44e1-8345-834e795f7766",
   "metadata": {},
   "source": [
    "It looks like the minimum household income in a census track is 9,191. (Interesting, I'd like to know what area that median household income level falls on.) While the maximum median household income in a census track is 250,001. Thats a huge gap! I definitely want to see where folks are making maximum 250,001. This can also help us when we bring in out grocery store data to help us visualize where more grocery stores are located. Is there a concentration in areas with lower income where it might be needed or in places of higher income levels, where people might be able to afford higher concentrations and more quality grocery stores."
   ]
  },
  {
   "cell_type": "code",
   "execution_count": 21,
   "id": "a41141fc-1933-410d-953f-4d0f35a96688",
   "metadata": {},
   "outputs": [
    {
     "data": {
      "text/plain": [
       "<AxesSubplot:ylabel='Frequency'>"
      ]
     },
     "execution_count": 21,
     "metadata": {},
     "output_type": "execute_result"
    },
    {
     "data": {
      "image/png": "[encoded data removed]",
      "text/plain": [
       "<Figure size 432x288 with 1 Axes>"
      ]
     },
     "metadata": {
      "needs_background": "light"
     },
     "output_type": "display_data"
    }
   ],
   "source": [
    "LA_income['Median HH Income'].plot.hist(bins=50)"
   ]
  },
  {
   "cell_type": "markdown",
   "id": "f83a4e7a-4500-40d3-a75d-e8e7548094a3",
   "metadata": {},
   "source": [
    "By looking at the data, it seems like there's a high concentration of census tracts where people make around 50,000. Further, most census tracts' median household income ranges from around 50,000 to almost 100,000. 100,000 is where we begin to see a drop in census tracts that make that amount or close to that amount. The frequency continues to drop, less and less census tracts have identified people that make close to 200,000 and the outlier seems to be census tracts where the median household income is 250,000. "
   ]
  },
  {
   "cell_type": "code",
   "execution_count": 22,
   "id": "2f0751e4-7e53-4741-829f-9aea70511ad0",
   "metadata": {},
   "outputs": [],
   "source": [
    "LA_income_sorted = LA_income.sort_values(by='Median HH Income',ascending = False)"
   ]
  },
  {
   "cell_type": "markdown",
   "id": "51d11273-c3b0-4038-a341-a537d71cf330",
   "metadata": {},
   "source": [
    "Let's keep our focus on median household income."
   ]
  },
  {
   "cell_type": "code",
   "execution_count": 23,
   "id": "7febe7d5-9e61-4122-803f-f8fb3a03a5a1",
   "metadata": {},
   "outputs": [
    {
     "data": {
      "text/html": [
       "<div>\n",
       "<style scoped>\n",
       "    .dataframe tbody tr th:only-of-type {\n",
       "        vertical-align: middle;\n",
       "    }\n",
       "\n",
       "    .dataframe tbody tr th {\n",
       "        vertical-align: top;\n",
       "    }\n",
       "\n",
       "    .dataframe thead th {\n",
       "        text-align: right;\n",
       "    }\n",
       "</style>\n",
       "<table border=\"1\" class=\"dataframe\">\n",
       "  <thead>\n",
       "    <tr style=\"text-align: right;\">\n",
       "      <th></th>\n",
       "      <th>geoid</th>\n",
       "      <th>Median HH Income</th>\n",
       "    </tr>\n",
       "  </thead>\n",
       "  <tbody>\n",
       "    <tr>\n",
       "      <th>2101</th>\n",
       "      <td>14000US06037670500</td>\n",
       "      <td>250001.0</td>\n",
       "    </tr>\n",
       "    <tr>\n",
       "      <th>341</th>\n",
       "      <td>14000US06037141700</td>\n",
       "      <td>250001.0</td>\n",
       "    </tr>\n",
       "    <tr>\n",
       "      <th>832</th>\n",
       "      <td>14000US06037262303</td>\n",
       "      <td>250001.0</td>\n",
       "    </tr>\n",
       "    <tr>\n",
       "      <th>833</th>\n",
       "      <td>14000US06037262400</td>\n",
       "      <td>250001.0</td>\n",
       "    </tr>\n",
       "    <tr>\n",
       "      <th>2120</th>\n",
       "      <td>14000US06037701201</td>\n",
       "      <td>234519.0</td>\n",
       "    </tr>\n",
       "    <tr>\n",
       "      <th>2332</th>\n",
       "      <td>14000US06037980019</td>\n",
       "      <td>231250.0</td>\n",
       "    </tr>\n",
       "    <tr>\n",
       "      <th>834</th>\n",
       "      <td>14000US06037262501</td>\n",
       "      <td>224962.0</td>\n",
       "    </tr>\n",
       "    <tr>\n",
       "      <th>840</th>\n",
       "      <td>14000US06037264000</td>\n",
       "      <td>220417.0</td>\n",
       "    </tr>\n",
       "    <tr>\n",
       "      <th>339</th>\n",
       "      <td>14000US06037141500</td>\n",
       "      <td>219698.0</td>\n",
       "    </tr>\n",
       "    <tr>\n",
       "      <th>828</th>\n",
       "      <td>14000US06037262100</td>\n",
       "      <td>217462.0</td>\n",
       "    </tr>\n",
       "  </tbody>\n",
       "</table>\n",
       "</div>"
      ],
      "text/plain": [
       "                   geoid  Median HH Income\n",
       "2101  14000US06037670500          250001.0\n",
       "341   14000US06037141700          250001.0\n",
       "832   14000US06037262303          250001.0\n",
       "833   14000US06037262400          250001.0\n",
       "2120  14000US06037701201          234519.0\n",
       "2332  14000US06037980019          231250.0\n",
       "834   14000US06037262501          224962.0\n",
       "840   14000US06037264000          220417.0\n",
       "339   14000US06037141500          219698.0\n",
       "828   14000US06037262100          217462.0"
      ]
     },
     "execution_count": 23,
     "metadata": {},
     "output_type": "execute_result"
    }
   ],
   "source": [
    "LA_income_sorted[['geoid','Median HH Income']].head(10)"
   ]
  },
  {
   "cell_type": "markdown",
   "id": "7076524d-3748-433a-9abd-1b01eeb5b292",
   "metadata": {},
   "source": [
    "If we sort out the top median household income numbers we can begin visualizing the data below. Let's take a look..."
   ]
  },
  {
   "cell_type": "code",
   "execution_count": 24,
   "id": "6e3e91f4-bfce-4b1f-84fb-faf4ecb8080e",
   "metadata": {},
   "outputs": [
    {
     "data": {
      "text/plain": [
       "<AxesSubplot:>"
      ]
     },
     "execution_count": 24,
     "metadata": {},
     "output_type": "execute_result"
    },
    {
     "data": {
      "image/png": "[encoded data removed]",
      "text/plain": [
       "<Figure size 432x288 with 1 Axes>"
      ]
     },
     "metadata": {
      "needs_background": "light"
     },
     "output_type": "display_data"
    }
   ],
   "source": [
    "LA_income_sorted.head(10).plot()"
   ]
  },
  {
   "cell_type": "markdown",
   "id": "efa859e1-57c6-4ce8-8d66-724891c50d06",
   "metadata": {},
   "source": [
    "okay, we're seeing something now. If we sort out the top 100 we can see more of a range. Let's take a look..."
   ]
  },
  {
   "cell_type": "code",
   "execution_count": 25,
   "id": "ff051dd1-f0f9-42b4-80cf-6a4f0f64a7c4",
   "metadata": {},
   "outputs": [
    {
     "data": {
      "text/plain": [
       "<AxesSubplot:>"
      ]
     },
     "execution_count": 25,
     "metadata": {},
     "output_type": "execute_result"
    },
    {
     "data": {
      "image/png": "[encoded data removed]",
      "text/plain": [
       "<Figure size 720x720 with 2 Axes>"
      ]
     },
     "metadata": {
      "needs_background": "light"
     },
     "output_type": "display_data"
    }
   ],
   "source": [
    "LA_income_sorted.head(100).plot(figsize=(10,10),column='Median HH Income',legend=True)"
   ]
  },
  {
   "cell_type": "markdown",
   "id": "382d64e1-3313-4246-acc5-808a2f6d870f",
   "metadata": {
    "tags": []
   },
   "source": [
    "Let's continue sorting. How many census tracts have people making less than 50,000 where most of the concentration starts. "
   ]
  },
  {
   "cell_type": "code",
   "execution_count": 26,
   "id": "a4e91624-5f1f-4e88-a891-ff2f308b33bd",
   "metadata": {
    "scrolled": true,
    "tags": []
   },
   "outputs": [
    {
     "data": {
      "text/plain": [
       "['geoid', 'Census Tract', 'Median HH Income', 'Inflation Adjusted', 'geometry']"
      ]
     },
     "execution_count": 26,
     "metadata": {},
     "output_type": "execute_result"
    }
   ],
   "source": [
    "list(LA_income)"
   ]
  },
  {
   "cell_type": "code",
   "execution_count": 27,
   "id": "3dd3c1c3-f898-4f29-a4a2-7487b87e9c8f",
   "metadata": {},
   "outputs": [
    {
     "data": {
      "text/plain": [
       "1       False\n",
       "2       False\n",
       "3        True\n",
       "4        True\n",
       "5       False\n",
       "        ...  \n",
       "2342    False\n",
       "2343    False\n",
       "2344    False\n",
       "2345    False\n",
       "2346    False\n",
       "Name: Median HH Income, Length: 2346, dtype: bool"
      ]
     },
     "execution_count": 27,
     "metadata": {},
     "output_type": "execute_result"
    }
   ],
   "source": [
    "LA_income['Median HH Income'] < 50000"
   ]
  },
  {
   "cell_type": "code",
   "execution_count": 28,
   "id": "0d01c563-a36c-44e2-aa50-f1efb7af2db4",
   "metadata": {},
   "outputs": [
    {
     "data": {
      "text/html": [
       "<div>\n",
       "<style scoped>\n",
       "    .dataframe tbody tr th:only-of-type {\n",
       "        vertical-align: middle;\n",
       "    }\n",
       "\n",
       "    .dataframe tbody tr th {\n",
       "        vertical-align: top;\n",
       "    }\n",
       "\n",
       "    .dataframe thead th {\n",
       "        text-align: right;\n",
       "    }\n",
       "</style>\n",
       "<table border=\"1\" class=\"dataframe\">\n",
       "  <thead>\n",
       "    <tr style=\"text-align: right;\">\n",
       "      <th></th>\n",
       "      <th>geoid</th>\n",
       "      <th>Census Tract</th>\n",
       "      <th>Median HH Income</th>\n",
       "      <th>Inflation Adjusted</th>\n",
       "      <th>geometry</th>\n",
       "    </tr>\n",
       "  </thead>\n",
       "  <tbody>\n",
       "    <tr>\n",
       "      <th>3</th>\n",
       "      <td>14000US06037101210</td>\n",
       "      <td>Census Tract 1012.10, Los Angeles, CA</td>\n",
       "      <td>44083.0</td>\n",
       "      <td>9483.0</td>\n",
       "      <td>MULTIPOLYGON (((-118.29945 34.25598, -118.2979...</td>\n",
       "    </tr>\n",
       "    <tr>\n",
       "      <th>4</th>\n",
       "      <td>14000US06037101220</td>\n",
       "      <td>Census Tract 1012.20, Los Angeles, CA</td>\n",
       "      <td>43713.0</td>\n",
       "      <td>4639.0</td>\n",
       "      <td>MULTIPOLYGON (((-118.28593 34.25227, -118.2859...</td>\n",
       "    </tr>\n",
       "    <tr>\n",
       "      <th>21</th>\n",
       "      <td>14000US06037104203</td>\n",
       "      <td>Census Tract 1042.03, Los Angeles, CA</td>\n",
       "      <td>49609.0</td>\n",
       "      <td>11898.0</td>\n",
       "      <td>MULTIPOLYGON (((-118.41799 34.27964, -118.4170...</td>\n",
       "    </tr>\n",
       "    <tr>\n",
       "      <th>31</th>\n",
       "      <td>14000US06037104701</td>\n",
       "      <td>Census Tract 1047.01, Los Angeles, CA</td>\n",
       "      <td>35357.0</td>\n",
       "      <td>6270.0</td>\n",
       "      <td>MULTIPOLYGON (((-118.42190 34.26624, -118.4213...</td>\n",
       "    </tr>\n",
       "    <tr>\n",
       "      <th>32</th>\n",
       "      <td>14000US06037104703</td>\n",
       "      <td>Census Tract 1047.03, Los Angeles, CA</td>\n",
       "      <td>41875.0</td>\n",
       "      <td>14155.0</td>\n",
       "      <td>MULTIPOLYGON (((-118.40909 34.25446, -118.4072...</td>\n",
       "    </tr>\n",
       "    <tr>\n",
       "      <th>...</th>\n",
       "      <td>...</td>\n",
       "      <td>...</td>\n",
       "      <td>...</td>\n",
       "      <td>...</td>\n",
       "      <td>...</td>\n",
       "    </tr>\n",
       "    <tr>\n",
       "      <th>2228</th>\n",
       "      <td>14000US06037910502</td>\n",
       "      <td>Census Tract 9105.02, Los Angeles, CA</td>\n",
       "      <td>38784.0</td>\n",
       "      <td>4570.0</td>\n",
       "      <td>MULTIPOLYGON (((-118.10766 34.58734, -118.1061...</td>\n",
       "    </tr>\n",
       "    <tr>\n",
       "      <th>2231</th>\n",
       "      <td>14000US06037910601</td>\n",
       "      <td>Census Tract 9106.01, Los Angeles, CA</td>\n",
       "      <td>41563.0</td>\n",
       "      <td>10015.0</td>\n",
       "      <td>MULTIPOLYGON (((-118.09427 34.58743, -118.0896...</td>\n",
       "    </tr>\n",
       "    <tr>\n",
       "      <th>2232</th>\n",
       "      <td>14000US06037910602</td>\n",
       "      <td>Census Tract 9106.02, Los Angeles, CA</td>\n",
       "      <td>41538.0</td>\n",
       "      <td>3615.0</td>\n",
       "      <td>MULTIPOLYGON (((-118.09411 34.57975, -118.0937...</td>\n",
       "    </tr>\n",
       "    <tr>\n",
       "      <th>2234</th>\n",
       "      <td>14000US06037910605</td>\n",
       "      <td>Census Tract 9106.05, Los Angeles, CA</td>\n",
       "      <td>44665.0</td>\n",
       "      <td>10596.0</td>\n",
       "      <td>MULTIPOLYGON (((-118.07620 34.56759, -118.0761...</td>\n",
       "    </tr>\n",
       "    <tr>\n",
       "      <th>2327</th>\n",
       "      <td>14000US06037980010</td>\n",
       "      <td>Census Tract 9800.10, Los Angeles, CA</td>\n",
       "      <td>19167.0</td>\n",
       "      <td>11351.0</td>\n",
       "      <td>MULTIPOLYGON (((-118.25165 34.08038, -118.2515...</td>\n",
       "    </tr>\n",
       "  </tbody>\n",
       "</table>\n",
       "<p>651 rows × 5 columns</p>\n",
       "</div>"
      ],
      "text/plain": [
       "                   geoid                           Census Tract  \\\n",
       "3     14000US06037101210  Census Tract 1012.10, Los Angeles, CA   \n",
       "4     14000US06037101220  Census Tract 1012.20, Los Angeles, CA   \n",
       "21    14000US06037104203  Census Tract 1042.03, Los Angeles, CA   \n",
       "31    14000US06037104701  Census Tract 1047.01, Los Angeles, CA   \n",
       "32    14000US06037104703  Census Tract 1047.03, Los Angeles, CA   \n",
       "...                  ...                                    ...   \n",
       "2228  14000US06037910502  Census Tract 9105.02, Los Angeles, CA   \n",
       "2231  14000US06037910601  Census Tract 9106.01, Los Angeles, CA   \n",
       "2232  14000US06037910602  Census Tract 9106.02, Los Angeles, CA   \n",
       "2234  14000US06037910605  Census Tract 9106.05, Los Angeles, CA   \n",
       "2327  14000US06037980010  Census Tract 9800.10, Los Angeles, CA   \n",
       "\n",
       "      Median HH Income  Inflation Adjusted  \\\n",
       "3              44083.0              9483.0   \n",
       "4              43713.0              4639.0   \n",
       "21             49609.0             11898.0   \n",
       "31             35357.0              6270.0   \n",
       "32             41875.0             14155.0   \n",
       "...                ...                 ...   \n",
       "2228           38784.0              4570.0   \n",
       "2231           41563.0             10015.0   \n",
       "2232           41538.0              3615.0   \n",
       "2234           44665.0             10596.0   \n",
       "2327           19167.0             11351.0   \n",
       "\n",
       "                                               geometry  \n",
       "3     MULTIPOLYGON (((-118.29945 34.25598, -118.2979...  \n",
       "4     MULTIPOLYGON (((-118.28593 34.25227, -118.2859...  \n",
       "21    MULTIPOLYGON (((-118.41799 34.27964, -118.4170...  \n",
       "31    MULTIPOLYGON (((-118.42190 34.26624, -118.4213...  \n",
       "32    MULTIPOLYGON (((-118.40909 34.25446, -118.4072...  \n",
       "...                                                 ...  \n",
       "2228  MULTIPOLYGON (((-118.10766 34.58734, -118.1061...  \n",
       "2231  MULTIPOLYGON (((-118.09427 34.58743, -118.0896...  \n",
       "2232  MULTIPOLYGON (((-118.09411 34.57975, -118.0937...  \n",
       "2234  MULTIPOLYGON (((-118.07620 34.56759, -118.0761...  \n",
       "2327  MULTIPOLYGON (((-118.25165 34.08038, -118.2515...  \n",
       "\n",
       "[651 rows x 5 columns]"
      ]
     },
     "execution_count": 28,
     "metadata": {},
     "output_type": "execute_result"
    }
   ],
   "source": [
    "LA_income[LA_income['Median HH Income'] < 50000]"
   ]
  },
  {
   "cell_type": "markdown",
   "id": "4a7198d0-0095-4a65-b0dd-5a3afc8c0855",
   "metadata": {},
   "source": [
    "Now, let's see what the data looks like if we combine the data to sort out only census tracts with less than 50,000 median household income and census tracts with over 90,000 median household income."
   ]
  },
  {
   "cell_type": "code",
   "execution_count": 29,
   "id": "ecd22f55-97a7-4ce9-9d47-e8b0f6fba133",
   "metadata": {},
   "outputs": [
    {
     "data": {
      "text/html": [
       "<div>\n",
       "<style scoped>\n",
       "    .dataframe tbody tr th:only-of-type {\n",
       "        vertical-align: middle;\n",
       "    }\n",
       "\n",
       "    .dataframe tbody tr th {\n",
       "        vertical-align: top;\n",
       "    }\n",
       "\n",
       "    .dataframe thead th {\n",
       "        text-align: right;\n",
       "    }\n",
       "</style>\n",
       "<table border=\"1\" class=\"dataframe\">\n",
       "  <thead>\n",
       "    <tr style=\"text-align: right;\">\n",
       "      <th></th>\n",
       "      <th>geoid</th>\n",
       "      <th>Census Tract</th>\n",
       "      <th>Median HH Income</th>\n",
       "      <th>Inflation Adjusted</th>\n",
       "      <th>geometry</th>\n",
       "    </tr>\n",
       "  </thead>\n",
       "  <tbody>\n",
       "    <tr>\n",
       "      <th>2</th>\n",
       "      <td>14000US06037101122</td>\n",
       "      <td>Census Tract 1011.22, Los Angeles, CA</td>\n",
       "      <td>90389.0</td>\n",
       "      <td>9796.0</td>\n",
       "      <td>MULTIPOLYGON (((-118.30334 34.27371, -118.3033...</td>\n",
       "    </tr>\n",
       "    <tr>\n",
       "      <th>3</th>\n",
       "      <td>14000US06037101210</td>\n",
       "      <td>Census Tract 1012.10, Los Angeles, CA</td>\n",
       "      <td>44083.0</td>\n",
       "      <td>9483.0</td>\n",
       "      <td>MULTIPOLYGON (((-118.29945 34.25598, -118.2979...</td>\n",
       "    </tr>\n",
       "    <tr>\n",
       "      <th>4</th>\n",
       "      <td>14000US06037101220</td>\n",
       "      <td>Census Tract 1012.20, Los Angeles, CA</td>\n",
       "      <td>43713.0</td>\n",
       "      <td>4639.0</td>\n",
       "      <td>MULTIPOLYGON (((-118.28593 34.25227, -118.2859...</td>\n",
       "    </tr>\n",
       "    <tr>\n",
       "      <th>10</th>\n",
       "      <td>14000US06037102107</td>\n",
       "      <td>Census Tract 1021.07, Los Angeles, CA</td>\n",
       "      <td>109375.0</td>\n",
       "      <td>16677.0</td>\n",
       "      <td>MULTIPOLYGON (((-118.36789 34.23939, -118.3678...</td>\n",
       "    </tr>\n",
       "    <tr>\n",
       "      <th>11</th>\n",
       "      <td>14000US06037103101</td>\n",
       "      <td>Census Tract 1031.01, Los Angeles, CA</td>\n",
       "      <td>99875.0</td>\n",
       "      <td>17773.0</td>\n",
       "      <td>MULTIPOLYGON (((-118.31760 34.27387, -118.3175...</td>\n",
       "    </tr>\n",
       "    <tr>\n",
       "      <th>...</th>\n",
       "      <td>...</td>\n",
       "      <td>...</td>\n",
       "      <td>...</td>\n",
       "      <td>...</td>\n",
       "      <td>...</td>\n",
       "    </tr>\n",
       "    <tr>\n",
       "      <th>2314</th>\n",
       "      <td>14000US06037920339</td>\n",
       "      <td>Census Tract 9203.39, Los Angeles, CA</td>\n",
       "      <td>143047.0</td>\n",
       "      <td>42128.0</td>\n",
       "      <td>MULTIPOLYGON (((-118.67620 34.40900, -118.6759...</td>\n",
       "    </tr>\n",
       "    <tr>\n",
       "      <th>2315</th>\n",
       "      <td>14000US06037930101</td>\n",
       "      <td>Census Tract 9301.01, Los Angeles, CA</td>\n",
       "      <td>149063.0</td>\n",
       "      <td>136896.0</td>\n",
       "      <td>MULTIPOLYGON (((-118.28661 34.28156, -118.2865...</td>\n",
       "    </tr>\n",
       "    <tr>\n",
       "      <th>2327</th>\n",
       "      <td>14000US06037980010</td>\n",
       "      <td>Census Tract 9800.10, Los Angeles, CA</td>\n",
       "      <td>19167.0</td>\n",
       "      <td>11351.0</td>\n",
       "      <td>MULTIPOLYGON (((-118.25165 34.08038, -118.2515...</td>\n",
       "    </tr>\n",
       "    <tr>\n",
       "      <th>2332</th>\n",
       "      <td>14000US06037980019</td>\n",
       "      <td>Census Tract 9800.19, Los Angeles, CA</td>\n",
       "      <td>231250.0</td>\n",
       "      <td>117385.0</td>\n",
       "      <td>MULTIPOLYGON (((-118.59919 34.07436, -118.5991...</td>\n",
       "    </tr>\n",
       "    <tr>\n",
       "      <th>2337</th>\n",
       "      <td>14000US06037980024</td>\n",
       "      <td>Census Tract 9800.24, Los Angeles, CA</td>\n",
       "      <td>150250.0</td>\n",
       "      <td>13582.0</td>\n",
       "      <td>MULTIPOLYGON (((-118.51849 34.18389, -118.5184...</td>\n",
       "    </tr>\n",
       "  </tbody>\n",
       "</table>\n",
       "<p>1238 rows × 5 columns</p>\n",
       "</div>"
      ],
      "text/plain": [
       "                   geoid                           Census Tract  \\\n",
       "2     14000US06037101122  Census Tract 1011.22, Los Angeles, CA   \n",
       "3     14000US06037101210  Census Tract 1012.10, Los Angeles, CA   \n",
       "4     14000US06037101220  Census Tract 1012.20, Los Angeles, CA   \n",
       "10    14000US06037102107  Census Tract 1021.07, Los Angeles, CA   \n",
       "11    14000US06037103101  Census Tract 1031.01, Los Angeles, CA   \n",
       "...                  ...                                    ...   \n",
       "2314  14000US06037920339  Census Tract 9203.39, Los Angeles, CA   \n",
       "2315  14000US06037930101  Census Tract 9301.01, Los Angeles, CA   \n",
       "2327  14000US06037980010  Census Tract 9800.10, Los Angeles, CA   \n",
       "2332  14000US06037980019  Census Tract 9800.19, Los Angeles, CA   \n",
       "2337  14000US06037980024  Census Tract 9800.24, Los Angeles, CA   \n",
       "\n",
       "      Median HH Income  Inflation Adjusted  \\\n",
       "2              90389.0              9796.0   \n",
       "3              44083.0              9483.0   \n",
       "4              43713.0              4639.0   \n",
       "10            109375.0             16677.0   \n",
       "11             99875.0             17773.0   \n",
       "...                ...                 ...   \n",
       "2314          143047.0             42128.0   \n",
       "2315          149063.0            136896.0   \n",
       "2327           19167.0             11351.0   \n",
       "2332          231250.0            117385.0   \n",
       "2337          150250.0             13582.0   \n",
       "\n",
       "                                               geometry  \n",
       "2     MULTIPOLYGON (((-118.30334 34.27371, -118.3033...  \n",
       "3     MULTIPOLYGON (((-118.29945 34.25598, -118.2979...  \n",
       "4     MULTIPOLYGON (((-118.28593 34.25227, -118.2859...  \n",
       "10    MULTIPOLYGON (((-118.36789 34.23939, -118.3678...  \n",
       "11    MULTIPOLYGON (((-118.31760 34.27387, -118.3175...  \n",
       "...                                                 ...  \n",
       "2314  MULTIPOLYGON (((-118.67620 34.40900, -118.6759...  \n",
       "2315  MULTIPOLYGON (((-118.28661 34.28156, -118.2865...  \n",
       "2327  MULTIPOLYGON (((-118.25165 34.08038, -118.2515...  \n",
       "2332  MULTIPOLYGON (((-118.59919 34.07436, -118.5991...  \n",
       "2337  MULTIPOLYGON (((-118.51849 34.18389, -118.5184...  \n",
       "\n",
       "[1238 rows x 5 columns]"
      ]
     },
     "execution_count": 29,
     "metadata": {},
     "output_type": "execute_result"
    }
   ],
   "source": [
    "LA_income[(LA_income['Median HH Income'] < 50000) | (LA_income['Median HH Income'] > 90000)]\n"
   ]
  },
  {
   "cell_type": "markdown",
   "id": "66993051-0421-4345-ba65-0b44ac3a2b51",
   "metadata": {},
   "source": [
    "Awesome! Now, let's try to plot this and create a chart."
   ]
  },
  {
   "cell_type": "code",
   "execution_count": 30,
   "id": "a537f90c-9563-41fd-8ead-617ae385387b",
   "metadata": {},
   "outputs": [
    {
     "data": {
      "text/plain": [
       "<AxesSubplot:ylabel='Frequency'>"
      ]
     },
     "execution_count": 30,
     "metadata": {},
     "output_type": "execute_result"
    },
    {
     "data": {
      "image/png": "[encoded data removed]",
      "text/plain": [
       "<Figure size 432x288 with 1 Axes>"
      ]
     },
     "metadata": {
      "needs_background": "light"
     },
     "output_type": "display_data"
    }
   ],
   "source": [
    "LA_income[(LA_income['Median HH Income'] < 50000) | (LA_income['Median HH Income'] > 90000)].plot.hist(bins=50)"
   ]
  },
  {
   "cell_type": "markdown",
   "id": "b80b31e1-6666-454a-84b1-892b5a5834e1",
   "metadata": {},
   "source": [
    "Okay, the chart looks nice! I don't think this is what we intended to plot but this looks nice! What does it tell us? looks like the data is separated by median household income and inflation adjustments."
   ]
  },
  {
   "cell_type": "markdown",
   "id": "9a9e90c7-5b94-4112-a593-1f511c6e6e13",
   "metadata": {},
   "source": [
    "We'll come back to this part. Now, can we plot data for census tracts with less than 50,000 and those with more than 90,000?"
   ]
  },
  {
   "cell_type": "code",
   "execution_count": 31,
   "id": "ef47cd45-6c28-48bf-826c-84c518853a4e",
   "metadata": {},
   "outputs": [
    {
     "ename": "AttributeError",
     "evalue": "'GeoDataFrame' object has no attribute 'lower'",
     "output_type": "error",
     "traceback": [
      "\u001b[0;31m---------------------------------------------------------------------------\u001b[0m",
      "\u001b[0;31mAttributeError\u001b[0m                            Traceback (most recent call last)",
      "\u001b[0;32m/tmp/ipykernel_372/1613150889.py\u001b[0m in \u001b[0;36m<module>\u001b[0;34m\u001b[0m\n\u001b[0;32m----> 1\u001b[0;31m LA_income.plot(figsize=(12,10),\n\u001b[0m\u001b[1;32m      2\u001b[0m                  \u001b[0mcolumn\u001b[0m\u001b[0;34m=\u001b[0m\u001b[0;34m'Median HH Income'\u001b[0m\u001b[0;34m,\u001b[0m\u001b[0;34m\u001b[0m\u001b[0;34m\u001b[0m\u001b[0m\n\u001b[1;32m      3\u001b[0m                  \u001b[0mlegend\u001b[0m\u001b[0;34m=\u001b[0m\u001b[0;32mTrue\u001b[0m\u001b[0;34m,\u001b[0m\u001b[0;34m\u001b[0m\u001b[0;34m\u001b[0m\u001b[0m\n\u001b[1;32m      4\u001b[0m                  \u001b[0mscheme\u001b[0m\u001b[0;34m=\u001b[0m\u001b[0mLA_income\u001b[0m\u001b[0;34m[\u001b[0m\u001b[0;34m(\u001b[0m\u001b[0mLA_income\u001b[0m\u001b[0;34m[\u001b[0m\u001b[0;34m'Median HH Income'\u001b[0m\u001b[0;34m]\u001b[0m \u001b[0;34m<\u001b[0m \u001b[0;36m50000\u001b[0m\u001b[0;34m)\u001b[0m \u001b[0;34m|\u001b[0m \u001b[0;34m(\u001b[0m\u001b[0mLA_income\u001b[0m\u001b[0;34m[\u001b[0m\u001b[0;34m'Median HH Income'\u001b[0m\u001b[0;34m]\u001b[0m\u001b[0;34m)\u001b[0m\u001b[0;34m]\u001b[0m\u001b[0;34m\u001b[0m\u001b[0;34m\u001b[0m\u001b[0m\n\u001b[1;32m      5\u001b[0m )\n",
      "\u001b[0;32m/opt/conda/lib/python3.9/site-packages/geopandas/plotting.py\u001b[0m in \u001b[0;36m__call__\u001b[0;34m(self, *args, **kwargs)\u001b[0m\n\u001b[1;32m    923\u001b[0m             \u001b[0mkind\u001b[0m \u001b[0;34m=\u001b[0m \u001b[0mkwargs\u001b[0m\u001b[0;34m.\u001b[0m\u001b[0mpop\u001b[0m\u001b[0;34m(\u001b[0m\u001b[0;34m\"kind\"\u001b[0m\u001b[0;34m,\u001b[0m \u001b[0;34m\"geo\"\u001b[0m\u001b[0;34m)\u001b[0m\u001b[0;34m\u001b[0m\u001b[0;34m\u001b[0m\u001b[0m\n\u001b[1;32m    924\u001b[0m             \u001b[0;32mif\u001b[0m \u001b[0mkind\u001b[0m \u001b[0;34m==\u001b[0m \u001b[0;34m\"geo\"\u001b[0m\u001b[0;34m:\u001b[0m\u001b[0;34m\u001b[0m\u001b[0;34m\u001b[0m\u001b[0m\n\u001b[0;32m--> 925\u001b[0;31m                 \u001b[0;32mreturn\u001b[0m \u001b[0mplot_dataframe\u001b[0m\u001b[0;34m(\u001b[0m\u001b[0mdata\u001b[0m\u001b[0;34m,\u001b[0m \u001b[0;34m*\u001b[0m\u001b[0margs\u001b[0m\u001b[0;34m,\u001b[0m \u001b[0;34m**\u001b[0m\u001b[0mkwargs\u001b[0m\u001b[0;34m)\u001b[0m\u001b[0;34m\u001b[0m\u001b[0;34m\u001b[0m\u001b[0m\n\u001b[0m\u001b[1;32m    926\u001b[0m             \u001b[0;32mif\u001b[0m \u001b[0mkind\u001b[0m \u001b[0;32min\u001b[0m \u001b[0mself\u001b[0m\u001b[0;34m.\u001b[0m\u001b[0m_pandas_kinds\u001b[0m\u001b[0;34m:\u001b[0m\u001b[0;34m\u001b[0m\u001b[0;34m\u001b[0m\u001b[0m\n\u001b[1;32m    927\u001b[0m                 \u001b[0;31m# Access pandas plots\u001b[0m\u001b[0;34m\u001b[0m\u001b[0;34m\u001b[0m\u001b[0;34m\u001b[0m\u001b[0m\n",
      "\u001b[0;32m/opt/conda/lib/python3.9/site-packages/geopandas/plotting.py\u001b[0m in \u001b[0;36mplot_dataframe\u001b[0;34m(df, column, cmap, color, ax, cax, categorical, legend, scheme, k, vmin, vmax, markersize, figsize, legend_kwds, categories, classification_kwds, missing_kwds, aspect, **style_kwds)\u001b[0m\n\u001b[1;32m    750\u001b[0m             \u001b[0mclassification_kwds\u001b[0m\u001b[0;34m[\u001b[0m\u001b[0;34m\"k\"\u001b[0m\u001b[0;34m]\u001b[0m \u001b[0;34m=\u001b[0m \u001b[0mk\u001b[0m\u001b[0;34m\u001b[0m\u001b[0;34m\u001b[0m\u001b[0m\n\u001b[1;32m    751\u001b[0m \u001b[0;34m\u001b[0m\u001b[0m\n\u001b[0;32m--> 752\u001b[0;31m         \u001b[0mbinning\u001b[0m \u001b[0;34m=\u001b[0m \u001b[0m_mapclassify_choro\u001b[0m\u001b[0;34m(\u001b[0m\u001b[0mvalues\u001b[0m\u001b[0;34m[\u001b[0m\u001b[0;34m~\u001b[0m\u001b[0mnan_idx\u001b[0m\u001b[0;34m]\u001b[0m\u001b[0;34m,\u001b[0m \u001b[0mscheme\u001b[0m\u001b[0;34m,\u001b[0m \u001b[0;34m**\u001b[0m\u001b[0mclassification_kwds\u001b[0m\u001b[0;34m)\u001b[0m\u001b[0;34m\u001b[0m\u001b[0;34m\u001b[0m\u001b[0m\n\u001b[0m\u001b[1;32m    753\u001b[0m         \u001b[0;31m# set categorical to True for creating the legend\u001b[0m\u001b[0;34m\u001b[0m\u001b[0;34m\u001b[0m\u001b[0;34m\u001b[0m\u001b[0m\n\u001b[1;32m    754\u001b[0m         \u001b[0mcategorical\u001b[0m \u001b[0;34m=\u001b[0m \u001b[0;32mTrue\u001b[0m\u001b[0;34m\u001b[0m\u001b[0;34m\u001b[0m\u001b[0m\n",
      "\u001b[0;32m/opt/conda/lib/python3.9/site-packages/geopandas/plotting.py\u001b[0m in \u001b[0;36m_mapclassify_choro\u001b[0;34m(values, scheme, **classification_kwds)\u001b[0m\n\u001b[1;32m    980\u001b[0m         \u001b[0mschemes\u001b[0m\u001b[0;34m[\u001b[0m\u001b[0mclassifier\u001b[0m\u001b[0;34m.\u001b[0m\u001b[0mlower\u001b[0m\u001b[0;34m(\u001b[0m\u001b[0;34m)\u001b[0m\u001b[0;34m]\u001b[0m \u001b[0;34m=\u001b[0m \u001b[0mgetattr\u001b[0m\u001b[0;34m(\u001b[0m\u001b[0mclassifiers\u001b[0m\u001b[0;34m,\u001b[0m \u001b[0mclassifier\u001b[0m\u001b[0;34m)\u001b[0m\u001b[0;34m\u001b[0m\u001b[0;34m\u001b[0m\u001b[0m\n\u001b[1;32m    981\u001b[0m \u001b[0;34m\u001b[0m\u001b[0m\n\u001b[0;32m--> 982\u001b[0;31m     \u001b[0mscheme\u001b[0m \u001b[0;34m=\u001b[0m \u001b[0mscheme\u001b[0m\u001b[0;34m.\u001b[0m\u001b[0mlower\u001b[0m\u001b[0;34m(\u001b[0m\u001b[0;34m)\u001b[0m\u001b[0;34m\u001b[0m\u001b[0;34m\u001b[0m\u001b[0m\n\u001b[0m\u001b[1;32m    983\u001b[0m \u001b[0;34m\u001b[0m\u001b[0m\n\u001b[1;32m    984\u001b[0m     \u001b[0;31m# mapclassify < 2.1 cleaned up the scheme names (removing underscores)\u001b[0m\u001b[0;34m\u001b[0m\u001b[0;34m\u001b[0m\u001b[0;34m\u001b[0m\u001b[0m\n",
      "\u001b[0;32m/opt/conda/lib/python3.9/site-packages/pandas/core/generic.py\u001b[0m in \u001b[0;36m__getattr__\u001b[0;34m(self, name)\u001b[0m\n\u001b[1;32m   5485\u001b[0m         ):\n\u001b[1;32m   5486\u001b[0m             \u001b[0;32mreturn\u001b[0m \u001b[0mself\u001b[0m\u001b[0;34m[\u001b[0m\u001b[0mname\u001b[0m\u001b[0;34m]\u001b[0m\u001b[0;34m\u001b[0m\u001b[0;34m\u001b[0m\u001b[0m\n\u001b[0;32m-> 5487\u001b[0;31m         \u001b[0;32mreturn\u001b[0m \u001b[0mobject\u001b[0m\u001b[0;34m.\u001b[0m\u001b[0m__getattribute__\u001b[0m\u001b[0;34m(\u001b[0m\u001b[0mself\u001b[0m\u001b[0;34m,\u001b[0m \u001b[0mname\u001b[0m\u001b[0;34m)\u001b[0m\u001b[0;34m\u001b[0m\u001b[0;34m\u001b[0m\u001b[0m\n\u001b[0m\u001b[1;32m   5488\u001b[0m \u001b[0;34m\u001b[0m\u001b[0m\n\u001b[1;32m   5489\u001b[0m     \u001b[0;32mdef\u001b[0m \u001b[0m__setattr__\u001b[0m\u001b[0;34m(\u001b[0m\u001b[0mself\u001b[0m\u001b[0;34m,\u001b[0m \u001b[0mname\u001b[0m\u001b[0;34m:\u001b[0m \u001b[0mstr\u001b[0m\u001b[0;34m,\u001b[0m \u001b[0mvalue\u001b[0m\u001b[0;34m)\u001b[0m \u001b[0;34m->\u001b[0m \u001b[0;32mNone\u001b[0m\u001b[0;34m:\u001b[0m\u001b[0;34m\u001b[0m\u001b[0;34m\u001b[0m\u001b[0m\n",
      "\u001b[0;31mAttributeError\u001b[0m: 'GeoDataFrame' object has no attribute 'lower'"
     ]
    },
    {
     "data": {
      "image/png": "[encoded data removed]",
      "text/plain": [
       "<Figure size 864x720 with 1 Axes>"
      ]
     },
     "metadata": {
      "needs_background": "light"
     },
     "output_type": "display_data"
    }
   ],
   "source": [
    "LA_income.plot(figsize=(12,10),\n",
    "                 column='Median HH Income',\n",
    "                 legend=True, \n",
    "                 scheme=LA_income[(LA_income['Median HH Income'] < 50000) | (LA_income['Median HH Income'])]\n",
    ")"
   ]
  },
  {
   "cell_type": "markdown",
   "id": "95410125-a76e-4680-9e61-f402c49da0fa",
   "metadata": {},
   "source": [
    "Oh no! That got messy. Let's try changing up the syntax for boolean values. Maybe that will help?"
   ]
  },
  {
   "cell_type": "code",
   "execution_count": 32,
   "id": "11424e54-b44b-49f3-b1f5-1cbf1ae12614",
   "metadata": {},
   "outputs": [
    {
     "data": {
      "text/html": [
       "<div>\n",
       "<style scoped>\n",
       "    .dataframe tbody tr th:only-of-type {\n",
       "        vertical-align: middle;\n",
       "    }\n",
       "\n",
       "    .dataframe tbody tr th {\n",
       "        vertical-align: top;\n",
       "    }\n",
       "\n",
       "    .dataframe thead th {\n",
       "        text-align: right;\n",
       "    }\n",
       "</style>\n",
       "<table border=\"1\" class=\"dataframe\">\n",
       "  <thead>\n",
       "    <tr style=\"text-align: right;\">\n",
       "      <th></th>\n",
       "      <th>geoid</th>\n",
       "      <th>Census Tract</th>\n",
       "      <th>Median HH Income</th>\n",
       "      <th>Inflation Adjusted</th>\n",
       "      <th>geometry</th>\n",
       "    </tr>\n",
       "  </thead>\n",
       "  <tbody>\n",
       "  </tbody>\n",
       "</table>\n",
       "</div>"
      ],
      "text/plain": [
       "Empty GeoDataFrame\n",
       "Columns: [geoid, Census Tract, Median HH Income, Inflation Adjusted, geometry]\n",
       "Index: []"
      ]
     },
     "execution_count": 32,
     "metadata": {},
     "output_type": "execute_result"
    }
   ],
   "source": [
    "LA_income[(LA_income['Median HH Income']<=50000) & (LA_income['Median HH Income']>=90000)]\n"
   ]
  },
  {
   "cell_type": "markdown",
   "id": "b89d6ed2-422f-4ac8-903f-35ed85ab986a",
   "metadata": {},
   "source": [
    "THAT DID NOT WORK! Let's change it back to our original boolean values"
   ]
  },
  {
   "cell_type": "code",
   "execution_count": 33,
   "id": "32ab96bd-44bb-4c9d-a80c-6b963d8a430f",
   "metadata": {},
   "outputs": [
    {
     "data": {
      "text/html": [
       "<div>\n",
       "<style scoped>\n",
       "    .dataframe tbody tr th:only-of-type {\n",
       "        vertical-align: middle;\n",
       "    }\n",
       "\n",
       "    .dataframe tbody tr th {\n",
       "        vertical-align: top;\n",
       "    }\n",
       "\n",
       "    .dataframe thead th {\n",
       "        text-align: right;\n",
       "    }\n",
       "</style>\n",
       "<table border=\"1\" class=\"dataframe\">\n",
       "  <thead>\n",
       "    <tr style=\"text-align: right;\">\n",
       "      <th></th>\n",
       "      <th>geoid</th>\n",
       "      <th>Census Tract</th>\n",
       "      <th>Median HH Income</th>\n",
       "      <th>Inflation Adjusted</th>\n",
       "      <th>geometry</th>\n",
       "    </tr>\n",
       "  </thead>\n",
       "  <tbody>\n",
       "    <tr>\n",
       "      <th>2</th>\n",
       "      <td>14000US06037101122</td>\n",
       "      <td>Census Tract 1011.22, Los Angeles, CA</td>\n",
       "      <td>90389.0</td>\n",
       "      <td>9796.0</td>\n",
       "      <td>MULTIPOLYGON (((-118.30334 34.27371, -118.3033...</td>\n",
       "    </tr>\n",
       "    <tr>\n",
       "      <th>3</th>\n",
       "      <td>14000US06037101210</td>\n",
       "      <td>Census Tract 1012.10, Los Angeles, CA</td>\n",
       "      <td>44083.0</td>\n",
       "      <td>9483.0</td>\n",
       "      <td>MULTIPOLYGON (((-118.29945 34.25598, -118.2979...</td>\n",
       "    </tr>\n",
       "    <tr>\n",
       "      <th>4</th>\n",
       "      <td>14000US06037101220</td>\n",
       "      <td>Census Tract 1012.20, Los Angeles, CA</td>\n",
       "      <td>43713.0</td>\n",
       "      <td>4639.0</td>\n",
       "      <td>MULTIPOLYGON (((-118.28593 34.25227, -118.2859...</td>\n",
       "    </tr>\n",
       "    <tr>\n",
       "      <th>10</th>\n",
       "      <td>14000US06037102107</td>\n",
       "      <td>Census Tract 1021.07, Los Angeles, CA</td>\n",
       "      <td>109375.0</td>\n",
       "      <td>16677.0</td>\n",
       "      <td>MULTIPOLYGON (((-118.36789 34.23939, -118.3678...</td>\n",
       "    </tr>\n",
       "    <tr>\n",
       "      <th>11</th>\n",
       "      <td>14000US06037103101</td>\n",
       "      <td>Census Tract 1031.01, Los Angeles, CA</td>\n",
       "      <td>99875.0</td>\n",
       "      <td>17773.0</td>\n",
       "      <td>MULTIPOLYGON (((-118.31760 34.27387, -118.3175...</td>\n",
       "    </tr>\n",
       "    <tr>\n",
       "      <th>...</th>\n",
       "      <td>...</td>\n",
       "      <td>...</td>\n",
       "      <td>...</td>\n",
       "      <td>...</td>\n",
       "      <td>...</td>\n",
       "    </tr>\n",
       "    <tr>\n",
       "      <th>2314</th>\n",
       "      <td>14000US06037920339</td>\n",
       "      <td>Census Tract 9203.39, Los Angeles, CA</td>\n",
       "      <td>143047.0</td>\n",
       "      <td>42128.0</td>\n",
       "      <td>MULTIPOLYGON (((-118.67620 34.40900, -118.6759...</td>\n",
       "    </tr>\n",
       "    <tr>\n",
       "      <th>2315</th>\n",
       "      <td>14000US06037930101</td>\n",
       "      <td>Census Tract 9301.01, Los Angeles, CA</td>\n",
       "      <td>149063.0</td>\n",
       "      <td>136896.0</td>\n",
       "      <td>MULTIPOLYGON (((-118.28661 34.28156, -118.2865...</td>\n",
       "    </tr>\n",
       "    <tr>\n",
       "      <th>2327</th>\n",
       "      <td>14000US06037980010</td>\n",
       "      <td>Census Tract 9800.10, Los Angeles, CA</td>\n",
       "      <td>19167.0</td>\n",
       "      <td>11351.0</td>\n",
       "      <td>MULTIPOLYGON (((-118.25165 34.08038, -118.2515...</td>\n",
       "    </tr>\n",
       "    <tr>\n",
       "      <th>2332</th>\n",
       "      <td>14000US06037980019</td>\n",
       "      <td>Census Tract 9800.19, Los Angeles, CA</td>\n",
       "      <td>231250.0</td>\n",
       "      <td>117385.0</td>\n",
       "      <td>MULTIPOLYGON (((-118.59919 34.07436, -118.5991...</td>\n",
       "    </tr>\n",
       "    <tr>\n",
       "      <th>2337</th>\n",
       "      <td>14000US06037980024</td>\n",
       "      <td>Census Tract 9800.24, Los Angeles, CA</td>\n",
       "      <td>150250.0</td>\n",
       "      <td>13582.0</td>\n",
       "      <td>MULTIPOLYGON (((-118.51849 34.18389, -118.5184...</td>\n",
       "    </tr>\n",
       "  </tbody>\n",
       "</table>\n",
       "<p>1239 rows × 5 columns</p>\n",
       "</div>"
      ],
      "text/plain": [
       "                   geoid                           Census Tract  \\\n",
       "2     14000US06037101122  Census Tract 1011.22, Los Angeles, CA   \n",
       "3     14000US06037101210  Census Tract 1012.10, Los Angeles, CA   \n",
       "4     14000US06037101220  Census Tract 1012.20, Los Angeles, CA   \n",
       "10    14000US06037102107  Census Tract 1021.07, Los Angeles, CA   \n",
       "11    14000US06037103101  Census Tract 1031.01, Los Angeles, CA   \n",
       "...                  ...                                    ...   \n",
       "2314  14000US06037920339  Census Tract 9203.39, Los Angeles, CA   \n",
       "2315  14000US06037930101  Census Tract 9301.01, Los Angeles, CA   \n",
       "2327  14000US06037980010  Census Tract 9800.10, Los Angeles, CA   \n",
       "2332  14000US06037980019  Census Tract 9800.19, Los Angeles, CA   \n",
       "2337  14000US06037980024  Census Tract 9800.24, Los Angeles, CA   \n",
       "\n",
       "      Median HH Income  Inflation Adjusted  \\\n",
       "2              90389.0              9796.0   \n",
       "3              44083.0              9483.0   \n",
       "4              43713.0              4639.0   \n",
       "10            109375.0             16677.0   \n",
       "11             99875.0             17773.0   \n",
       "...                ...                 ...   \n",
       "2314          143047.0             42128.0   \n",
       "2315          149063.0            136896.0   \n",
       "2327           19167.0             11351.0   \n",
       "2332          231250.0            117385.0   \n",
       "2337          150250.0             13582.0   \n",
       "\n",
       "                                               geometry  \n",
       "2     MULTIPOLYGON (((-118.30334 34.27371, -118.3033...  \n",
       "3     MULTIPOLYGON (((-118.29945 34.25598, -118.2979...  \n",
       "4     MULTIPOLYGON (((-118.28593 34.25227, -118.2859...  \n",
       "10    MULTIPOLYGON (((-118.36789 34.23939, -118.3678...  \n",
       "11    MULTIPOLYGON (((-118.31760 34.27387, -118.3175...  \n",
       "...                                                 ...  \n",
       "2314  MULTIPOLYGON (((-118.67620 34.40900, -118.6759...  \n",
       "2315  MULTIPOLYGON (((-118.28661 34.28156, -118.2865...  \n",
       "2327  MULTIPOLYGON (((-118.25165 34.08038, -118.2515...  \n",
       "2332  MULTIPOLYGON (((-118.59919 34.07436, -118.5991...  \n",
       "2337  MULTIPOLYGON (((-118.51849 34.18389, -118.5184...  \n",
       "\n",
       "[1239 rows x 5 columns]"
      ]
     },
     "execution_count": 33,
     "metadata": {},
     "output_type": "execute_result"
    }
   ],
   "source": [
    "LA_income[(LA_income['Median HH Income']<=50000) | (LA_income['Median HH Income']>=90000)]\n"
   ]
  },
  {
   "cell_type": "markdown",
   "id": "ae87c634-7f66-409c-9873-dd3bd96203b3",
   "metadata": {},
   "source": [
    "Cool! That worked! Let's try something different in order to plot these values. What if we create a new deo"
   ]
  },
  {
   "cell_type": "code",
   "execution_count": 34,
   "id": "5d8a221f-9136-44c1-8379-a467fa495c33",
   "metadata": {},
   "outputs": [
    {
     "name": "stderr",
     "output_type": "stream",
     "text": [
      "<>:1: SyntaxWarning: 'int' object is not callable; perhaps you missed a comma?\n",
      "<>:1: SyntaxWarning: 'int' object is not callable; perhaps you missed a comma?\n",
      "/tmp/ipykernel_314/4113994282.py:1: SyntaxWarning: 'int' object is not callable; perhaps you missed a comma?\n",
      "  LA50 = LA_income >50 (LA_income['Median HH Income']<=50000) | (LA_income['Median HH Income']>=90000)\n"
     ]
    },
    {
     "ename": "TypeError",
     "evalue": "'int' object is not callable",
     "output_type": "error",
     "traceback": [
      "\u001b[0;31m---------------------------------------------------------------------------\u001b[0m",
      "\u001b[0;31mTypeError\u001b[0m                                 Traceback (most recent call last)",
      "\u001b[0;32m/tmp/ipykernel_314/4113994282.py\u001b[0m in \u001b[0;36m<module>\u001b[0;34m\u001b[0m\n\u001b[0;32m----> 1\u001b[0;31m \u001b[0mLA50\u001b[0m \u001b[0;34m=\u001b[0m \u001b[0mLA_income\u001b[0m \u001b[0;34m>\u001b[0m\u001b[0;36m50\u001b[0m \u001b[0;34m(\u001b[0m\u001b[0mLA_income\u001b[0m\u001b[0;34m[\u001b[0m\u001b[0;34m'Median HH Income'\u001b[0m\u001b[0;34m]\u001b[0m\u001b[0;34m<=\u001b[0m\u001b[0;36m50000\u001b[0m\u001b[0;34m)\u001b[0m \u001b[0;34m|\u001b[0m \u001b[0;34m(\u001b[0m\u001b[0mLA_income\u001b[0m\u001b[0;34m[\u001b[0m\u001b[0;34m'Median HH Income'\u001b[0m\u001b[0;34m]\u001b[0m\u001b[0;34m>=\u001b[0m\u001b[0;36m90000\u001b[0m\u001b[0;34m)\u001b[0m\u001b[0;34m\u001b[0m\u001b[0;34m\u001b[0m\u001b[0m\n\u001b[0m",
      "\u001b[0;31mTypeError\u001b[0m: 'int' object is not callable"
     ]
    }
   ],
   "source": [
    "LA50 = LA_income >50 (LA_income['Median HH Income']<=50000) | (LA_income['Median HH Income']>=90000)"
   ]
  },
  {
   "cell_type": "code",
   "execution_count": null,
   "id": "e1639d2e-9392-4df5-a4d7-426c54a806e8",
   "metadata": {},
   "outputs": [],
   "source": []
  }
 ],
 "metadata": {
  "kernelspec": {
   "display_name": "Python 3 (ipykernel)",
   "language": "python",
   "name": "python3"
  },
  "language_info": {
   "codemirror_mode": {
    "name": "ipython",
    "version": 3
   },
   "file_extension": ".py",
   "mimetype": "text/x-python",
   "name": "python",
   "nbconvert_exporter": "python",
   "pygments_lexer": "ipython3",
   "version": "3.9.6"
  }
 },
 "nbformat": 4,
 "nbformat_minor": 5
}
